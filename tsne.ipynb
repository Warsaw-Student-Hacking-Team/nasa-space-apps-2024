{
 "cells": [
  {
   "cell_type": "code",
   "execution_count": 1,
   "metadata": {},
   "outputs": [],
   "source": [
    "import torch\n",
    "import torch.nn as nn\n",
    "import torch.optim as optim\n",
    "import torchvision.datasets as datasets\n",
    "import torchvision.transforms as transforms\n",
    "\n",
    "from Dataloader import prepare_data_loader\n",
    "from sklearn.manifold import TSNE\n",
    "\n",
    "import matplotlib.pyplot as plt"
   ]
  },
  {
   "cell_type": "code",
   "execution_count": 2,
   "metadata": {},
   "outputs": [
    {
     "name": "stdout",
     "output_type": "stream",
     "text": [
      "Starting number of files: 76\n",
      "Number of uniques files: 71\n",
      "(6633, 65, 70)\n",
      "(6633,)\n",
      "Number of windows with seismic events: 299\n"
     ]
    }
   ],
   "source": [
    "training_data_dir = './data/lunar/training/data/S12_GradeA/'\n",
    "training_labels_file = './data/lunar/training/catalogs/apollo12_catalog_GradeA_final.csv'\n",
    "\n",
    "train_loader = prepare_data_loader(overlap=0.25, window_length=1, decimation_factor=3, spect_nfft=128, spect_nperseg=128, batch_size=128, data_dir = training_data_dir, labels_file_path=training_labels_file)"
   ]
  },
  {
   "cell_type": "code",
   "execution_count": 3,
   "metadata": {},
   "outputs": [
    {
     "name": "stdout",
     "output_type": "stream",
     "text": [
      "(6633, 65, 70) (6633,)\n"
     ]
    }
   ],
   "source": [
    "all_x, all_labels = [], []\n",
    "for img, _, ev_type in train_loader:\n",
    "    all_x.append(img.detach().cpu())\n",
    "    all_labels.append(ev_type)\n",
    "all_x = torch.cat(all_x).cpu().numpy()\n",
    "all_labels = torch.cat(all_labels).cpu().numpy()\n",
    "print(all_x.shape, all_labels.shape)"
   ]
  },
  {
   "cell_type": "code",
   "execution_count": 4,
   "metadata": {},
   "outputs": [],
   "source": [
    "tsne = TSNE(n_components=2, perplexity=30, n_iter=1000)\n",
    "X_tsne = tsne.fit_transform(all_x.reshape(all_x.shape[0], -1))"
   ]
  },
  {
   "cell_type": "code",
   "execution_count": null,
   "metadata": {},
   "outputs": [],
   "source": [
    "plt.figure(figsize=(16, 12))\n",
    "\n",
    "# scatter = plt.scatter(all_encodings[:, 0], all_encodings[:, 1], c=all_labels.astype(int), cmap='tab10', s=10)\n",
    "scatter = plt.scatter(X_tsne[:, 0], X_tsne[:, 1], c=all_labels.astype(int), cmap='Accent', s=10)\n",
    "\n",
    "# Display legend\n",
    "plt.grid(True)\n",
    "# plt.xlim(-1, -0.25)\n",
    "# plt.ylim(-1, -0.7)\n",
    "plt.title(f'Projection of analysed spectrogram space into 2D latent space', fontsize=24)\n",
    "plt.xlabel('Hidden dim 1', fontsize=20)\n",
    "plt.ylabel('Hidden dim 2', fontsize=20)\n",
    "# plt.colorbar(scatter)\n",
    "#legend\n",
    "handles, _ = scatter.legend_elements()\n",
    "labels = ['noise', 'impact mq', 'deep mq', 'shallow mq']  # Replace with your actual labels\n",
    "# plt.legend(handles, labels, title=\"Event\", fontsize=20)\n",
    "#legend on the right\n",
    "plt.legend(handles, labels, title=\"Event\", fontsize=20, loc='upper right')\n",
    "#legend with bigger title font\n",
    "plt.setp(plt.gca().get_legend().get_title(), fontsize=20)\n",
    "\n",
    "plt.show()"
   ]
  }
 ],
 "metadata": {
  "kernelspec": {
   "display_name": "Python 3",
   "language": "python",
   "name": "python3"
  },
  "language_info": {
   "codemirror_mode": {
    "name": "ipython",
    "version": 3
   },
   "file_extension": ".py",
   "mimetype": "text/x-python",
   "name": "python",
   "nbconvert_exporter": "python",
   "pygments_lexer": "ipython3",
   "version": "3.11.4"
  }
 },
 "nbformat": 4,
 "nbformat_minor": 2
}
