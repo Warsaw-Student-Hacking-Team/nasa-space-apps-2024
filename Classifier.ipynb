{
 "cells": [
  {
   "cell_type": "code",
   "execution_count": 1,
   "metadata": {},
   "outputs": [],
   "source": [
    "import torch\n",
    "import torch.nn as nn\n",
    "import matplotlib.pyplot as plt\n",
    "import torchprofile\n",
    "from Dataloader import prepare_data_loader\n",
    "from obspy import read\n",
    "from scipy import signal\n",
    "from matplotlib import cm\n",
    "from datetime import timedelta\n",
    "from Models import Encoder, Classifier\n",
    "import os"
   ]
  },
  {
   "cell_type": "code",
   "execution_count": 2,
   "metadata": {},
   "outputs": [
    {
     "data": {
      "text/plain": [
       "device(type='cuda')"
      ]
     },
     "execution_count": 2,
     "metadata": {},
     "output_type": "execute_result"
    }
   ],
   "source": [
    "device = torch.device('cuda' if torch.cuda.is_available() else 'cpu')\n",
    "device"
   ]
  },
  {
   "cell_type": "code",
   "execution_count": 3,
   "metadata": {},
   "outputs": [
    {
     "name": "stdout",
     "output_type": "stream",
     "text": [
      "Starting number of files: 76\n",
      "Number of uniques files: 71\n",
      "(6633, 65, 70)\n",
      "(6633,)\n",
      "Number of windows with seismic events: 299\n"
     ]
    }
   ],
   "source": [
    "training_data_dir = './data/lunar/training/data/S12_GradeA/'\n",
    "training_labels_file = './data/lunar/training/catalogs/apollo12_catalog_GradeA_final.csv'\n",
    "\n",
    "train_loader = prepare_data_loader(overlap=0.25,\n",
    "                                  window_length=1,\n",
    "                                  decimation_factor=3,\n",
    "                                  spect_nfft=128,\n",
    "                                  spect_nperseg=128,\n",
    "                                  batch_size=128,\n",
    "                                  data_dir=training_data_dir,\n",
    "                                  labels_file_path=training_labels_file)"
   ]
  },
  {
   "cell_type": "code",
   "execution_count": 4,
   "metadata": {},
   "outputs": [],
   "source": [
    "height, width = train_loader.dataset.tensors[0].shape[1:]"
   ]
  },
  {
   "cell_type": "code",
   "execution_count": 8,
   "metadata": {},
   "outputs": [
    {
     "data": {
      "text/plain": [
       "<All keys matched successfully>"
      ]
     },
     "execution_count": 8,
     "metadata": {},
     "output_type": "execute_result"
    }
   ],
   "source": [
    "hidden_size = 100\n",
    "classifier = Classifier(hidden_size).to(device)\n",
    "encoder = Encoder(hidden_size).to(device)\n",
    "encoder.load_state_dict(torch.load('./models/encoder.pth', weights_only=False))"
   ]
  },
  {
   "cell_type": "code",
   "execution_count": null,
   "metadata": {},
   "outputs": [],
   "source": [
    "optimizer = torch.optim.Adam(classifier.parameters(), lr=1e-5)\n",
    "criterion = nn.BCELoss()\n",
    "\n",
    "num_epochs = 100\n",
    "all_losses = []\n",
    "classifier.train()\n",
    "for epoch in range(num_epochs):\n",
    "    for x, y in train_loader:\n",
    "        x = x.reshape(-1, 1, height, width).to(device)\n",
    "        y = y.float().to(device)\n",
    "        embedding = encoder(x)\n",
    "        embedding = embedding.view(embedding.size(0), -1)\n",
    "        preds = classifier(embedding)\n",
    "        preds = preds.view(-1)\n",
    "        loss = criterion(preds, y)\n",
    "        optimizer.zero_grad()\n",
    "        loss.backward()\n",
    "        optimizer.step()\n",
    "    print(f'epoch [{epoch + 1}/{num_epochs}], loss: {loss.item()}')\n",
    "    all_losses.append(loss.item())\n",
    "\n",
    "# torch.save(classifier, './models/classifier.pth')\n",
    "plt.plot(all_losses)\n",
    "plt.yscale('log')\n",
    "plt.show()"
   ]
  },
  {
   "cell_type": "code",
   "execution_count": 13,
   "metadata": {},
   "outputs": [
    {
     "data": {
      "text/plain": [
       "<All keys matched successfully>"
      ]
     },
     "execution_count": 13,
     "metadata": {},
     "output_type": "execute_result"
    }
   ],
   "source": [
    "state_dict = torch.load('./models/classifier.pth', map_location=device, weights_only=False)\n",
    "classifier.load_state_dict(state_dict.state_dict())"
   ]
  },
  {
   "cell_type": "code",
   "execution_count": 66,
   "metadata": {},
   "outputs": [
    {
     "name": "stdout",
     "output_type": "stream",
     "text": [
      "Encoder: 2163040 FLOPS\n",
      "Classifier: 5050 FLOPS\n",
      "Total: 2168090 FLOPS\n"
     ]
    },
    {
     "name": "stderr",
     "output_type": "stream",
     "text": [
      "c:\\Users\\ASamek.ERP\\AppData\\Local\\Programs\\Python\\Python311\\Lib\\site-packages\\torchprofile\\profile.py:22: UserWarning: No handlers found: \"aten::reshape\". Skipped.\n",
      "  warnings.warn('No handlers found: \"{}\". Skipped.'.format(\n"
     ]
    }
   ],
   "source": [
    "dummy_input = torch.randn(1, 1, height, width).to(device)\n",
    "\n",
    "encoder_flops = torchprofile.profile_macs(encoder, dummy_input)\n",
    "embedding = encoder(dummy_input)\n",
    "embedding = embedding.view(embedding.size(0), -1)\n",
    "classifier_flops = torchprofile.profile_macs(classifier, embedding)\n",
    "total_flops = encoder_flops + classifier_flops\n",
    "\n",
    "print(f'Encoder: {encoder_flops} FLOPS')\n",
    "print(f'Classifier: {classifier_flops} FLOPS')\n",
    "print(f'Total: {total_flops} FLOPS')"
   ]
  },
  {
   "cell_type": "code",
   "execution_count": 67,
   "metadata": {},
   "outputs": [
    {
     "name": "stdout",
     "output_type": "stream",
     "text": [
      "Total RAM required: 2.26 MB\n"
     ]
    }
   ],
   "source": [
    "def calculate_memory_requirements(model, input_size):\n",
    "    num_params = sum(p.numel() for p in model.parameters())\n",
    "    param_memory = num_params * 4  # 32-bit (4 bytes) precision\n",
    "    dummy_input = torch.randn(input_size).to(device)\n",
    "    activations = []\n",
    "    def hook(module, input, output):\n",
    "        activations.append(output)\n",
    "    hooks = []\n",
    "    for layer in model.children():\n",
    "        hooks.append(layer.register_forward_hook(hook))\n",
    "    model(dummy_input)\n",
    "    activation_memory = sum(a.numel() * 4 for a in activations)\n",
    "    gradient_memory = activation_memory\n",
    "    total_memory = param_memory + activation_memory + gradient_memory\n",
    "    total_memory_mb = total_memory / (1024 ** 2)\n",
    "    for hook in hooks:\n",
    "        hook.remove()\n",
    "    return total_memory_mb\n",
    "\n",
    "input_size = (1, 1, height, width)\n",
    "encoder_memory = calculate_memory_requirements(encoder, input_size)\n",
    "classifier_memory = calculate_memory_requirements(classifier, (1, 100))\n",
    "\n",
    "total_memory_mb = encoder_memory + classifier_memory\n",
    "print(f'Total RAM required: {total_memory_mb:.2f} MB')"
   ]
  },
  {
   "cell_type": "code",
   "execution_count": 68,
   "metadata": {},
   "outputs": [],
   "source": [
    "thr_loader = torch.utils.data.DataLoader(train_loader.dataset.tensors[0], batch_size=1)\n",
    "classifier.eval()\n",
    "preds_list = []\n",
    "with torch.no_grad():\n",
    "    for x in thr_loader:\n",
    "        x = x.reshape(-1, 1, height, width).to(device)\n",
    "        embedding = encoder(x)\n",
    "        embedding = embedding.view(embedding.size(0), -1)\n",
    "        preds = classifier(embedding)\n",
    "        preds = preds.view(-1)\n",
    "        preds_list.append(preds.item())\n",
    "preds_list = torch.tensor(preds_list)"
   ]
  },
  {
   "cell_type": "code",
   "execution_count": 15,
   "metadata": {},
   "outputs": [
    {
     "name": "stdout",
     "output_type": "stream",
     "text": [
      "Threshold: 0.82, Fscore: 0.91\n"
     ]
    }
   ],
   "source": [
    "max_fscore = 0\n",
    "for thr in range(1, 100):\n",
    "    threshold = thr / 100\n",
    "    preds = preds_list > threshold\n",
    "    true_positives = (preds & train_loader.dataset.tensors[1].bool()).sum().item()\n",
    "    false_positives = (preds & ~train_loader.dataset.tensors[1].bool()).sum().item()\n",
    "    false_negatives = (~preds & train_loader.dataset.tensors[1].bool()).sum().item()\n",
    "    precision = true_positives / (true_positives + false_positives)\n",
    "    recall = true_positives / (true_positives + false_negatives)\n",
    "    fscore = 2 * precision * recall / (precision + recall)\n",
    "    if max_fscore < fscore:\n",
    "        max_fscore = fscore\n",
    "        best_thr = threshold\n",
    "print(f'Threshold: {best_thr}, Fscore: {max_fscore:.2f}')"
   ]
  },
  {
   "cell_type": "code",
   "execution_count": 16,
   "metadata": {},
   "outputs": [
    {
     "name": "stdout",
     "output_type": "stream",
     "text": [
      "Starting number of files:64\n",
      "Number of uniques files:62\n",
      "5.316825688083293e-43 3.6978454907431216e-14\n",
      "-0.010187266094692378 733.9280375998992\n",
      "(5736, 65, 70)\n"
     ]
    }
   ],
   "source": [
    "test_data_dir = './data/lunar/test/data/S12_GradeB/'\n",
    "\n",
    "spctrs, enc_dates = prepare_data_loader(overlap=0.25,\n",
    "                                  window_length=1,\n",
    "                                  decimation_factor=3,\n",
    "                                  spect_nfft=128,\n",
    "                                  spect_nperseg=128,\n",
    "                                  batch_size=128,\n",
    "                                  data_dir=test_data_dir,\n",
    "                                  one_file=True)"
   ]
  },
  {
   "cell_type": "code",
   "execution_count": 17,
   "metadata": {},
   "outputs": [],
   "source": [
    "testset = torch.utils.data.TensorDataset(torch.tensor(spctrs))\n",
    "test_loader = torch.utils.data.DataLoader(testset, batch_size=1, shuffle=False)"
   ]
  },
  {
   "cell_type": "code",
   "execution_count": 18,
   "metadata": {},
   "outputs": [],
   "source": [
    "dates = [date[0].strftime('%Y-%m-%d %H:%M:%S') for date in enc_dates]"
   ]
  },
  {
   "cell_type": "code",
   "execution_count": 19,
   "metadata": {},
   "outputs": [],
   "source": [
    "date_to_pred, date_to_spc = {}, {}\n",
    "classifier.eval()\n",
    "with torch.no_grad():\n",
    "    for i, spc in enumerate(test_loader):\n",
    "        x = spc[0].float().reshape(-1, 1, height, width).to(device)\n",
    "        embedding = encoder(x)\n",
    "        embedding = embedding.view(embedding.size(0), -1)\n",
    "        preds = classifier(embedding)\n",
    "        date_to_pred[dates[i]] = preds.item() > best_thr\n",
    "        date_to_spc[dates[i]] = spc[0]"
   ]
  },
  {
   "cell_type": "code",
   "execution_count": 53,
   "metadata": {},
   "outputs": [
    {
     "name": "stdout",
     "output_type": "stream",
     "text": [
      "xa.s12.00.mhz.1971-06-11HR00_evid00096.mseed\n"
     ]
    }
   ],
   "source": [
    "num_file = 26\n",
    "data_directory = './data/lunar/test/data/S12_GradeB/'\n",
    "for i, file in enumerate(os.listdir(data_directory)):\n",
    "    if file.endswith('.mseed'):\n",
    "        if i // 2 == num_file:\n",
    "            print(file)\n",
    "            mseed_file = f'{data_directory}{file}'\n",
    "            st = read(mseed_file)\n",
    "            break"
   ]
  },
  {
   "cell_type": "code",
   "execution_count": 54,
   "metadata": {},
   "outputs": [
    {
     "name": "stdout",
     "output_type": "stream",
     "text": [
      "1971-06-11 13:00:00\n",
      "1971-06-11 13:15:00\n",
      "1971-06-11 13:30:00\n",
      "1971-06-11 13:45:00\n"
     ]
    },
    {
     "data": {
      "image/png": "[encoded data removed]",
      "text/plain": [
       "<Figure size 1000x1000 with 3 Axes>"
      ]
     },
     "metadata": {},
     "output_type": "display_data"
    }
   ],
   "source": [
    "st_filt = st.copy()\n",
    "st_filt.filter('bandpass', freqmin=0.5, freqmax=1.0)\n",
    "tr_filt = st_filt.traces[0].copy()\n",
    "tr_times_filt = tr_filt.times()\n",
    "tr = st.traces[0].copy()\n",
    "tr_times = tr.times()\n",
    "\n",
    "starttime = tr.stats.starttime.datetime\n",
    "endtime = starttime + timedelta(seconds=tr_times[-1])\n",
    "time_diff = int((endtime - starttime).total_seconds() / 3600)\n",
    "tr_data_filt = tr_filt.data\n",
    "f, t, sxx = signal.spectrogram(tr_data_filt, tr_filt.stats.sampling_rate)\n",
    "fig = plt.figure(figsize=(10, 10))\n",
    " \n",
    "ax = plt.subplot(2, 1, 1)\n",
    "ax.plot(tr_times_filt, tr_data_filt)\n",
    "ax.set_xlim([min(tr_times_filt), max(tr_times_filt)])\n",
    "ax.set_xticks([min(tr_times_filt) + i * 3600 for i in range(0, time_diff + 1, 3)])\n",
    "ax.set_xticklabels([(starttime + timedelta(hours=i)).strftime('%m-%d %H') for i in range(0, time_diff + 1, 3)])\n",
    "for i in range(4 * time_diff + 1):\n",
    "    time = starttime + timedelta(minutes=15*i)\n",
    "    if date_to_pred.get(time.strftime('%Y-%m-%d %H:%M:%S'), False):\n",
    "        print(time.strftime('%Y-%m-%d %H:%M:%S'))\n",
    "        t_label = (time - starttime).total_seconds()\n",
    "        ax.axvspan(t_label, t_label+3600, color='red', alpha=0.3)\n",
    "\n",
    "ax.set_ylabel('Velocity (m/s)')\n",
    "ax.set_xlabel('Date (Month-Day Hour)')\n",
    "\n",
    "ax2 = plt.subplot(2, 1, 2)\n",
    "vals = ax2.pcolormesh(t, f, sxx, cmap=cm.jet, vmax=5e-17)\n",
    "ax2.set_xlabel(f'Time (Day Hour:Minute)', fontweight='bold')\n",
    "ax2.set_ylabel('Frequency (Hz)', fontweight='bold')\n",
    "cbar = plt.colorbar(vals, orientation='horizontal')\n",
    "cbar.set_label('Power ((m/s)^2/sqrt(Hz))', fontweight='bold')"
   ]
  }
 ],
 "metadata": {
  "kernelspec": {
   "display_name": "Python 3",
   "language": "python",
   "name": "python3"
  },
  "language_info": {
   "codemirror_mode": {
    "name": "ipython",
    "version": 3
   },
   "file_extension": ".py",
   "mimetype": "text/x-python",
   "name": "python",
   "nbconvert_exporter": "python",
   "pygments_lexer": "ipython3",
   "version": "3.11.4"
  }
 },
 "nbformat": 4,
 "nbformat_minor": 2
}
