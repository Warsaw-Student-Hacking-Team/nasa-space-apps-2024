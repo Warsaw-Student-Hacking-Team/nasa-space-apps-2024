{
 "cells": [
  {
   "cell_type": "code",
   "execution_count": 1,
   "metadata": {},
   "outputs": [],
   "source": [
    "import torch\n",
    "import torch.nn as nn\n",
    "import matplotlib.pyplot as plt\n",
    "import torchprofile\n",
    "from Dataloader import prepare_data_loader\n",
    "from obspy import read\n",
    "from scipy import signal\n",
    "from matplotlib import cm\n",
    "from datetime import timedelta\n",
    "from Models import *\n",
    "import os"
   ]
  },
  {
   "cell_type": "code",
   "execution_count": 2,
   "metadata": {},
   "outputs": [
    {
     "data": {
      "text/plain": [
       "device(type='cuda')"
      ]
     },
     "execution_count": 2,
     "metadata": {},
     "output_type": "execute_result"
    }
   ],
   "source": [
    "device = torch.device('cuda' if torch.cuda.is_available() else 'cpu')\n",
    "device"
   ]
  },
  {
   "cell_type": "code",
   "execution_count": 3,
   "metadata": {},
   "outputs": [
    {
     "name": "stdout",
     "output_type": "stream",
     "text": [
      "Starting number of files: 76\n",
      "Number of uniques files: 71\n",
      "xa.s12.00.mhz.1970-01-19HR00_evid00002.mseed\n",
      "xa.s12.00.mhz.1970-03-25HR00_evid00003.mseed\n",
      "xa.s12.00.mhz.1970-03-26HR00_evid00004.mseed\n",
      "xa.s12.00.mhz.1970-04-25HR00_evid00006.mseed\n",
      "xa.s12.00.mhz.1970-04-26HR00_evid00007.mseed\n",
      "xa.s12.00.mhz.1970-06-15HR00_evid00008.mseed\n",
      "xa.s12.00.mhz.1970-06-26HR00_evid00009.mseed\n",
      "xa.s12.00.mhz.1970-07-20HR00_evid00010.mseed\n",
      "xa.s12.00.mhz.1970-09-26HR00_evid00013.mseed\n",
      "xa.s12.00.mhz.1970-10-24HR00_evid00014.mseed\n",
      "xa.s12.00.mhz.1970-11-12HR00_evid00015.mseed\n",
      "xa.s12.00.mhz.1970-12-11HR00_evid00017.mseed\n",
      "xa.s12.00.mhz.1970-12-27HR00_evid00019.mseed\n",
      "xa.s12.00.mhz.1970-12-31HR00_evid00021.mseed\n",
      "xa.s12.00.mhz.1971-01-15HR00_evid00022.mseed\n",
      "xa.s12.00.mhz.1971-01-28HR00_evid00023.mseed\n",
      "xa.s12.00.mhz.1971-01-29HR00_evid00024.mseed\n",
      "xa.s12.00.mhz.1971-02-09HR00_evid00026.mseed\n",
      "xa.s12.00.mhz.1971-03-25HR00_evid00028.mseed\n",
      "xa.s12.00.mhz.1971-04-13HR02_evid00029.mseed\n",
      "xa.s12.00.mhz.1971-04-17HR00_evid00030.mseed\n",
      "xa.s12.00.mhz.1971-05-12HR00_evid00031.mseed\n",
      "xa.s12.00.mhz.1971-05-13HR00_evid00033.mseed\n",
      "xa.s12.00.mhz.1971-05-23HR00_evid00034.mseed\n",
      "xa.s12.00.mhz.1971-06-12HR00_evid00035.mseed\n",
      "xa.s12.00.mhz.1971-09-25HR00_evid00042.mseed\n",
      "xa.s12.00.mhz.1971-10-18HR00_evid00043.mseed\n",
      "xa.s12.00.mhz.1971-10-20HR00_evid00044.mseed\n",
      "xa.s12.00.mhz.1971-10-31HR00_evid00045.mseed\n",
      "xa.s12.00.mhz.1971-11-14HR00_evid00046.mseed\n",
      "xa.s12.00.mhz.1972-01-04HR00_evid00049.mseed\n",
      "xa.s12.00.mhz.1972-03-12HR00_evid00052.mseed\n",
      "xa.s12.00.mhz.1972-05-11HR00_evid00055.mseed\n",
      "xa.s12.00.mhz.1972-06-16HR00_evid00060.mseed\n",
      "xa.s12.00.mhz.1972-07-17HR00_evid00067.mseed\n",
      "xa.s12.00.mhz.1972-07-28HR00_evid00070.mseed\n",
      "xa.s12.00.mhz.1972-07-31HR00_evid00071.mseed\n",
      "xa.s12.00.mhz.1972-12-02HR00_evid00083.mseed\n",
      "xa.s12.00.mhz.1972-12-03HR00_evid00084.mseed\n",
      "xa.s12.00.mhz.1973-01-18HR00_evid00088.mseed\n",
      "xa.s12.00.mhz.1973-01-31HR00_evid00091.mseed\n",
      "xa.s12.00.mhz.1973-03-01HR00_evid00093.mseed\n",
      "xa.s12.00.mhz.1973-03-13HR00_evid00094.mseed\n",
      "xa.s12.00.mhz.1973-03-24HR00_evid00097.mseed\n",
      "xa.s12.00.mhz.1973-05-14HR00_evid00104.mseed\n",
      "xa.s12.00.mhz.1973-06-05HR00_evid00107.mseed\n",
      "xa.s12.00.mhz.1973-06-18HR00_evid00109.mseed\n",
      "xa.s12.00.mhz.1973-06-27HR00_evid00112.mseed\n",
      "xa.s12.00.mhz.1973-07-03HR00_evid00113.mseed\n",
      "xa.s12.00.mhz.1973-07-04HR00_evid00114.mseed\n",
      "xa.s12.00.mhz.1973-07-20HR00_evid00117.mseed\n",
      "xa.s12.00.mhz.1973-07-28HR00_evid00120.mseed\n",
      "xa.s12.00.mhz.1973-07-29HR00_evid00121.mseed\n",
      "xa.s12.00.mhz.1973-08-21HR00_evid00127.mseed\n",
      "xa.s12.00.mhz.1974-01-10HR00_evid00136.mseed\n",
      "xa.s12.00.mhz.1974-02-07HR00_evid00137.mseed\n",
      "xa.s12.00.mhz.1974-02-12HR00_evid00138.mseed\n",
      "xa.s12.00.mhz.1974-03-25HR00_evid00140.mseed\n",
      "xa.s12.00.mhz.1974-04-08HR00_evid00141.mseed\n",
      "xa.s12.00.mhz.1974-04-19HR00_evid00142.mseed\n",
      "xa.s12.00.mhz.1974-04-26HR00_evid00144.mseed\n",
      "xa.s12.00.mhz.1974-04-27HR00_evid00145.mseed\n",
      "xa.s12.00.mhz.1974-06-25HR00_evid00149.mseed\n",
      "xa.s12.00.mhz.1974-07-06HR00_evid00150.mseed\n",
      "xa.s12.00.mhz.1974-07-11HR00_evid00152.mseed\n",
      "xa.s12.00.mhz.1974-07-17HR00_evid00153.mseed\n",
      "xa.s12.00.mhz.1974-10-14HR00_evid00156.mseed\n",
      "xa.s12.00.mhz.1975-04-12HR00_evid00191.mseed\n",
      "xa.s12.00.mhz.1975-05-04HR00_evid00192.mseed\n",
      "xa.s12.00.mhz.1975-06-24HR00_evid00196.mseed\n",
      "xa.s12.00.mhz.1975-06-26HR00_evid00198.mseed\n",
      "(6633, 65, 70)\n",
      "(6633,)\n",
      "Number of windows with seismic events: 299\n",
      "Noise sample weight: 0.04507764209256747\n",
      "Event sample weight: 0.9549223579074325\n"
     ]
    }
   ],
   "source": [
    "training_data_dir = './data/lunar/training/data/S12_GradeA/'\n",
    "training_labels_file = './data/lunar/training/catalogs/apollo12_catalog_GradeA_final.csv'\n",
    "\n",
    "train_loader = prepare_data_loader(overlap=0.25,\n",
    "                                  window_length=1,\n",
    "                                  decimation_factor=3,\n",
    "                                  spect_nfft=128,\n",
    "                                  spect_nperseg=128,\n",
    "                                  batch_size=128,\n",
    "                                  data_dir=training_data_dir,\n",
    "                                  labels_file_path=training_labels_file)"
   ]
  },
  {
   "cell_type": "code",
   "execution_count": 4,
   "metadata": {},
   "outputs": [],
   "source": [
    "height, width = train_loader.dataset.tensors[0].shape[1:]"
   ]
  },
  {
   "cell_type": "code",
   "execution_count": 5,
   "metadata": {},
   "outputs": [
    {
     "data": {
      "text/plain": [
       "<All keys matched successfully>"
      ]
     },
     "execution_count": 5,
     "metadata": {},
     "output_type": "execute_result"
    }
   ],
   "source": [
    "hidden_size = 100\n",
    "classifier = Classifier(hidden_size).to(device)\n",
    "encoder = Encoder(hidden_size).to(device)\n",
    "encoder.load_state_dict(torch.load('./models/encoder_2.pth', weights_only=False))"
   ]
  },
  {
   "cell_type": "code",
   "execution_count": 7,
   "metadata": {},
   "outputs": [
    {
     "name": "stdout",
     "output_type": "stream",
     "text": [
      "epoch [1/100], loss: 0.678811252117157\n",
      "epoch [2/100], loss: 0.6622439622879028\n",
      "epoch [3/100], loss: 0.6534181237220764\n",
      "epoch [4/100], loss: 0.6569780111312866\n",
      "epoch [5/100], loss: 0.6460878252983093\n",
      "epoch [6/100], loss: 0.6277956962585449\n",
      "epoch [7/100], loss: 0.6320918798446655\n",
      "epoch [8/100], loss: 0.6205511689186096\n",
      "epoch [9/100], loss: 0.6204444766044617\n",
      "epoch [10/100], loss: 0.58698570728302\n",
      "epoch [11/100], loss: 0.5729806423187256\n",
      "epoch [12/100], loss: 0.5803338289260864\n",
      "epoch [13/100], loss: 0.5903347134590149\n",
      "epoch [14/100], loss: 0.5418293476104736\n",
      "epoch [15/100], loss: 0.5160554647445679\n",
      "epoch [16/100], loss: 0.5465967059135437\n",
      "epoch [17/100], loss: 0.5396210551261902\n",
      "epoch [18/100], loss: 0.544476330280304\n",
      "epoch [19/100], loss: 0.558965265750885\n",
      "epoch [20/100], loss: 0.525657057762146\n",
      "epoch [21/100], loss: 0.533438503742218\n",
      "epoch [22/100], loss: 0.5150682330131531\n",
      "epoch [23/100], loss: 0.5214641094207764\n",
      "epoch [24/100], loss: 0.507618248462677\n",
      "epoch [25/100], loss: 0.5201762318611145\n",
      "epoch [26/100], loss: 0.5048506259918213\n",
      "epoch [27/100], loss: 0.477772057056427\n",
      "epoch [28/100], loss: 0.48811429738998413\n",
      "epoch [29/100], loss: 0.48544901609420776\n",
      "epoch [30/100], loss: 0.4599322974681854\n",
      "epoch [31/100], loss: 0.4596501886844635\n",
      "epoch [32/100], loss: 0.4477669298648834\n",
      "epoch [33/100], loss: 0.47376906871795654\n",
      "epoch [34/100], loss: 0.4255131483078003\n",
      "epoch [35/100], loss: 0.44822657108306885\n",
      "epoch [36/100], loss: 0.4587689936161041\n",
      "epoch [37/100], loss: 0.47896403074264526\n",
      "epoch [38/100], loss: 0.3924441635608673\n",
      "epoch [39/100], loss: 0.4166911840438843\n",
      "epoch [40/100], loss: 0.42862042784690857\n",
      "epoch [41/100], loss: 0.41457900404930115\n",
      "epoch [42/100], loss: 0.4106653928756714\n",
      "epoch [43/100], loss: 0.46894630789756775\n",
      "epoch [44/100], loss: 0.36670929193496704\n",
      "epoch [45/100], loss: 0.4158848524093628\n",
      "epoch [46/100], loss: 0.4279623329639435\n",
      "epoch [47/100], loss: 0.432915598154068\n",
      "epoch [48/100], loss: 0.3325841426849365\n",
      "epoch [49/100], loss: 0.37325215339660645\n",
      "epoch [50/100], loss: 0.36850136518478394\n",
      "epoch [51/100], loss: 0.3949149250984192\n",
      "epoch [52/100], loss: 0.3737713098526001\n",
      "epoch [53/100], loss: 0.40808579325675964\n",
      "epoch [54/100], loss: 0.3477567434310913\n",
      "epoch [55/100], loss: 0.3669416010379791\n",
      "epoch [56/100], loss: 0.38887202739715576\n",
      "epoch [57/100], loss: 0.36254647374153137\n",
      "epoch [58/100], loss: 0.3665681481361389\n",
      "epoch [59/100], loss: 0.39162105321884155\n",
      "epoch [60/100], loss: 0.3386639952659607\n",
      "epoch [61/100], loss: 0.3247438967227936\n",
      "epoch [62/100], loss: 0.29312968254089355\n",
      "epoch [63/100], loss: 0.3702123761177063\n",
      "epoch [64/100], loss: 0.32951465249061584\n",
      "epoch [65/100], loss: 0.36812347173690796\n",
      "epoch [66/100], loss: 0.3313518464565277\n",
      "epoch [67/100], loss: 0.35681742429733276\n",
      "epoch [68/100], loss: 0.2993911802768707\n",
      "epoch [69/100], loss: 0.29494771361351013\n",
      "epoch [70/100], loss: 0.3895254135131836\n",
      "epoch [71/100], loss: 0.3745960295200348\n",
      "epoch [72/100], loss: 0.3313350975513458\n",
      "epoch [73/100], loss: 0.3205944299697876\n",
      "epoch [74/100], loss: 0.4055369794368744\n",
      "epoch [75/100], loss: 0.2743924856185913\n",
      "epoch [76/100], loss: 0.34671109914779663\n",
      "epoch [77/100], loss: 0.26600325107574463\n",
      "epoch [78/100], loss: 0.33570387959480286\n",
      "epoch [79/100], loss: 0.28969934582710266\n",
      "epoch [80/100], loss: 0.34964585304260254\n",
      "epoch [81/100], loss: 0.3260151147842407\n",
      "epoch [82/100], loss: 0.2697858512401581\n",
      "epoch [83/100], loss: 0.34911900758743286\n",
      "epoch [84/100], loss: 0.36911216378211975\n",
      "epoch [85/100], loss: 0.3386960029602051\n",
      "epoch [86/100], loss: 0.303812175989151\n",
      "epoch [87/100], loss: 0.3731919825077057\n",
      "epoch [88/100], loss: 0.3212442100048065\n",
      "epoch [89/100], loss: 0.28601551055908203\n",
      "epoch [90/100], loss: 0.23543621599674225\n",
      "epoch [91/100], loss: 0.28202763199806213\n",
      "epoch [92/100], loss: 0.38996678590774536\n",
      "epoch [93/100], loss: 0.24245773255825043\n",
      "epoch [94/100], loss: 0.3635072708129883\n",
      "epoch [95/100], loss: 0.2855275571346283\n",
      "epoch [96/100], loss: 0.29667970538139343\n",
      "epoch [97/100], loss: 0.33801034092903137\n",
      "epoch [98/100], loss: 0.2727869749069214\n",
      "epoch [99/100], loss: 0.24631628394126892\n",
      "epoch [100/100], loss: 0.3150462210178375\n"
     ]
    },
    {
     "data": {
      "image/png": "[encoded data removed]",
      "text/plain": [
       "<Figure size 640x480 with 1 Axes>"
      ]
     },
     "metadata": {},
     "output_type": "display_data"
    }
   ],
   "source": [
    "optimizer = torch.optim.Adam(classifier.parameters(), lr=1e-5)\n",
    "criterion = nn.BCELoss()\n",
    "\n",
    "num_epochs = 100\n",
    "all_losses = []\n",
    "classifier.train()\n",
    "for epoch in range(num_epochs):\n",
    "    for x, y, _ in train_loader:\n",
    "        x = x.reshape(-1, 1, height, width).to(device)\n",
    "        y = y.float().to(device)\n",
    "        embedding = encoder(x)\n",
    "        embedding = embedding.view(embedding.size(0), -1)\n",
    "        preds = classifier(embedding)\n",
    "        preds = preds.view(-1)\n",
    "        loss = criterion(preds, y)\n",
    "        optimizer.zero_grad()\n",
    "        loss.backward()\n",
    "        optimizer.step()\n",
    "    print(f'epoch [{epoch + 1}/{num_epochs}], loss: {loss.item()}')\n",
    "    all_losses.append(loss.item())\n",
    "\n",
    "# torch.save(classifier, './models/classifier.pth')\n",
    "plt.plot(all_losses)\n",
    "plt.yscale('log')\n",
    "plt.show()"
   ]
  },
  {
   "cell_type": "code",
   "execution_count": 13,
   "metadata": {},
   "outputs": [
    {
     "data": {
      "text/plain": [
       "<All keys matched successfully>"
      ]
     },
     "execution_count": 13,
     "metadata": {},
     "output_type": "execute_result"
    }
   ],
   "source": [
    "# state_dict = torch.load('./models/classifier.pth', map_location=device, weights_only=False)\n",
    "# classifier.load_state_dict(state_dict.state_dict())"
   ]
  },
  {
   "cell_type": "code",
   "execution_count": 8,
   "metadata": {},
   "outputs": [
    {
     "name": "stdout",
     "output_type": "stream",
     "text": [
      "Encoder: 403968 FLOPS\n",
      "Classifier: 5050 FLOPS\n",
      "Total: 409018 FLOPS\n"
     ]
    },
    {
     "name": "stderr",
     "output_type": "stream",
     "text": [
      "c:\\Users\\wpietron\\AppData\\Local\\Programs\\Python\\Python311\\Lib\\site-packages\\torchprofile\\profile.py:22: UserWarning: No handlers found: \"aten::reshape\". Skipped.\n",
      "  warnings.warn('No handlers found: \"{}\". Skipped.'.format(\n"
     ]
    }
   ],
   "source": [
    "dummy_input = torch.randn(1, 1, height, width).to(device)\n",
    "\n",
    "encoder_flops = torchprofile.profile_macs(encoder, dummy_input)\n",
    "embedding = encoder(dummy_input)\n",
    "embedding = embedding.view(embedding.size(0), -1)\n",
    "classifier_flops = torchprofile.profile_macs(classifier, embedding)\n",
    "total_flops = encoder_flops + classifier_flops\n",
    "\n",
    "print(f'Encoder: {encoder_flops} FLOPS')\n",
    "print(f'Classifier: {classifier_flops} FLOPS')\n",
    "print(f'Total: {total_flops} FLOPS')"
   ]
  },
  {
   "cell_type": "code",
   "execution_count": 9,
   "metadata": {},
   "outputs": [
    {
     "name": "stdout",
     "output_type": "stream",
     "text": [
      "Total RAM required: 0.47 MB\n"
     ]
    }
   ],
   "source": [
    "def calculate_memory_requirements(model, input_size):\n",
    "    num_params = sum(p.numel() for p in model.parameters())\n",
    "    param_memory = num_params * 4  # 32-bit (4 bytes) precision\n",
    "    dummy_input = torch.randn(input_size).to(device)\n",
    "    activations = []\n",
    "    def hook(module, input, output):\n",
    "        activations.append(output)\n",
    "    hooks = []\n",
    "    for layer in model.children():\n",
    "        hooks.append(layer.register_forward_hook(hook))\n",
    "    model(dummy_input)\n",
    "    activation_memory = sum(a.numel() * 4 for a in activations)\n",
    "    gradient_memory = activation_memory\n",
    "    total_memory = param_memory + activation_memory + gradient_memory\n",
    "    total_memory_mb = total_memory / (1024 ** 2)\n",
    "    for hook in hooks:\n",
    "        hook.remove()\n",
    "    return total_memory_mb\n",
    "\n",
    "input_size = (1, 1, height, width)\n",
    "encoder_memory = calculate_memory_requirements(encoder, input_size)\n",
    "classifier_memory = calculate_memory_requirements(classifier, (1, 100))\n",
    "\n",
    "total_memory_mb = encoder_memory + classifier_memory\n",
    "print(f'Total RAM required: {total_memory_mb:.2f} MB')"
   ]
  },
  {
   "cell_type": "code",
   "execution_count": 10,
   "metadata": {},
   "outputs": [],
   "source": [
    "thr_loader = torch.utils.data.DataLoader(train_loader.dataset.tensors[0], batch_size=1)\n",
    "classifier.eval()\n",
    "preds_list = []\n",
    "with torch.no_grad():\n",
    "    for x in thr_loader:\n",
    "        x = x.reshape(-1, 1, height, width).to(device)\n",
    "        embedding = encoder(x)\n",
    "        embedding = embedding.view(embedding.size(0), -1)\n",
    "        preds = classifier(embedding)\n",
    "        preds = preds.view(-1)\n",
    "        preds_list.append(preds.item())\n",
    "preds_list = torch.tensor(preds_list)"
   ]
  },
  {
   "cell_type": "code",
   "execution_count": 11,
   "metadata": {},
   "outputs": [
    {
     "name": "stdout",
     "output_type": "stream",
     "text": [
      "Threshold: 0.63, Fscore: 0.80\n"
     ]
    }
   ],
   "source": [
    "max_fscore = 0\n",
    "for thr in range(1, 100):\n",
    "    threshold = thr / 100\n",
    "    preds = preds_list > threshold\n",
    "    true_positives = (preds & train_loader.dataset.tensors[1].bool()).sum().item()\n",
    "    false_positives = (preds & ~train_loader.dataset.tensors[1].bool()).sum().item()\n",
    "    false_negatives = (~preds & train_loader.dataset.tensors[1].bool()).sum().item()\n",
    "    precision = true_positives / (true_positives + false_positives)\n",
    "    recall = true_positives / (true_positives + false_negatives)\n",
    "    fscore = 2 * precision * recall / (precision + recall)\n",
    "    if max_fscore < fscore:\n",
    "        max_fscore = fscore\n",
    "        best_thr = threshold\n",
    "print(f'Threshold: {best_thr}, Fscore: {max_fscore:.2f}')"
   ]
  },
  {
   "cell_type": "code",
   "execution_count": 12,
   "metadata": {},
   "outputs": [
    {
     "name": "stdout",
     "output_type": "stream",
     "text": [
      "Starting number of files: 64\n",
      "Number of uniques files: 62\n",
      "xa.s12.00.mhz.1969-12-16HR00_evid00006.mseed\n",
      "xa.s12.00.mhz.1970-01-09HR00_evid00007.mseed\n",
      "xa.s12.00.mhz.1970-02-07HR00_evid00014.mseed\n",
      "xa.s12.00.mhz.1970-02-18HR00_evid00016.mseed\n",
      "xa.s12.00.mhz.1970-03-14HR00_evid00018.mseed\n",
      "xa.s12.00.mhz.1970-03-30HR00_evid00020.mseed\n",
      "xa.s12.00.mhz.1970-04-03HR00_evid00021.mseed\n",
      "xa.s12.00.mhz.1970-05-20HR00_evid00026.mseed\n",
      "xa.s12.00.mhz.1970-05-23HR00_evid00027.mseed\n",
      "xa.s12.00.mhz.1970-05-24HR00_evid00028.mseed\n",
      "xa.s12.00.mhz.1970-05-25HR00_evid00029.mseed\n",
      "xa.s12.00.mhz.1970-06-19HR00_evid00031.mseed\n",
      "xa.s12.00.mhz.1970-07-17HR00_evid00035.mseed\n",
      "xa.s12.00.mhz.1970-07-18HR00_evid00036.mseed\n",
      "xa.s12.00.mhz.1970-07-20HR00_evid00037.mseed\n",
      "xa.s12.00.mhz.1970-07-27HR00_evid00039.mseed\n",
      "xa.s12.00.mhz.1970-09-09HR00_evid00043.mseed\n",
      "xa.s12.00.mhz.1970-10-26HR00_evid00049.mseed\n",
      "xa.s12.00.mhz.1970-11-03HR00_evid00050.mseed\n",
      "xa.s12.00.mhz.1971-01-03HR00_evid00057.mseed\n",
      "xa.s12.00.mhz.1971-01-05HR00_evid00059.mseed\n",
      "xa.s12.00.mhz.1971-01-17HR00_evid00060.mseed\n",
      "xa.s12.00.mhz.1971-03-15HR00_evid00073.mseed\n",
      "xa.s12.00.mhz.1971-04-08HR01_evid00083.mseed\n",
      "xa.s12.00.mhz.1971-05-22HR00_evid00092.mseed\n",
      "xa.s12.00.mhz.1971-06-11HR00_evid00096.mseed\n",
      "xa.s12.00.mhz.1971-06-27HR00_evid00101.mseed\n",
      "xa.s12.00.mhz.1971-10-06HR00_evid00124.mseed\n",
      "xa.s12.00.mhz.1971-10-26HR00_evid00133.mseed\n",
      "xa.s12.00.mhz.1971-11-24HR00_evid00156.mseed\n",
      "xa.s12.00.mhz.1972-01-26HR00_evid00186.mseed\n",
      "xa.s12.00.mhz.1972-02-21HR00_evid00190.mseed\n",
      "xa.s12.00.mhz.1972-02-28HR00_evid00192.mseed\n",
      "xa.s12.00.mhz.1972-05-15HR00_evid00223.mseed\n",
      "xa.s12.00.mhz.1972-05-19HR00_evid00228.mseed\n",
      "xa.s12.00.mhz.1972-11-14HR00_evid00331.mseed\n",
      "xa.s12.00.mhz.1972-11-19HR00_evid00335.mseed\n",
      "xa.s12.00.mhz.1972-12-02HR00_evid00341.mseed\n",
      "xa.s12.00.mhz.1972-12-06HR00_evid00342.mseed\n",
      "xa.s12.00.mhz.1972-12-15HR00_evid00349.mseed\n",
      "xa.s12.00.mhz.1973-03-12HR00_evid00384.mseed\n",
      "xa.s12.00.mhz.1973-04-23HR00_evid00399.mseed\n",
      "xa.s12.00.mhz.1973-08-08HR00_evid00437.mseed\n",
      "xa.s12.00.mhz.1973-10-03HR03_evid00461.mseed\n",
      "xa.s12.00.mhz.1973-10-10HR00_evid00463.mseed\n",
      "xa.s12.00.mhz.1973-11-22HR00_evid00475.mseed\n",
      "xa.s12.00.mhz.1974-03-14HR00_evid00506.mseed\n",
      "xa.s12.00.mhz.1974-03-30HR00_evid00512.mseed\n",
      "xa.s12.00.mhz.1974-05-09HR00_evid00522.mseed\n",
      "xa.s12.00.mhz.1974-06-30HR00_evid00543.mseed\n",
      "xa.s12.00.mhz.1974-07-25HR05_evid00553.mseed\n",
      "xa.s12.00.mhz.1974-10-02HR00_evid00572.mseed\n",
      "xa.s12.00.mhz.1975-04-21HR00_evid00638.mseed\n",
      "xa.s12.00.mhz.1975-05-16HR00_evid00651.mseed\n",
      "xa.s12.00.mhz.1975-05-20HR00_evid00652.mseed\n",
      "xa.s12.00.mhz.1975-06-15HR00_evid00660.mseed\n",
      "xa.s12.00.mhz.1975-06-17HR00_evid00662.mseed\n",
      "xa.s12.00.mhz.1977-04-11HR00_evid00915.mseed\n",
      "xa.s12.00.mhz.1977-04-24HR00_evid00923.mseed\n",
      "xa.s12.00.mhz.1977-04-26HR00_evid00924.mseed\n",
      "xa.s12.00.mhz.1977-07-19HR00_evid00991.mseed\n",
      "xa.s12.00.mhz.1977-09-13HR00_evid01012.mseed\n",
      "(5736, 65, 70)\n"
     ]
    }
   ],
   "source": [
    "test_data_dir = './data/lunar/test/data/S12_GradeB/'\n",
    "\n",
    "spctrs, enc_dates = prepare_data_loader(overlap=0.25,\n",
    "                                  window_length=1,\n",
    "                                  decimation_factor=3,\n",
    "                                  spect_nfft=128,\n",
    "                                  spect_nperseg=128,\n",
    "                                  batch_size=128,\n",
    "                                  data_dir=test_data_dir,\n",
    "                                  one_file=True)"
   ]
  },
  {
   "cell_type": "code",
   "execution_count": 13,
   "metadata": {},
   "outputs": [],
   "source": [
    "testset = torch.utils.data.TensorDataset(torch.tensor(spctrs))\n",
    "test_loader = torch.utils.data.DataLoader(testset, batch_size=1, shuffle=False)"
   ]
  },
  {
   "cell_type": "code",
   "execution_count": 14,
   "metadata": {},
   "outputs": [],
   "source": [
    "dates = [date[0].strftime('%Y-%m-%d %H:%M:%S') for date in enc_dates]"
   ]
  },
  {
   "cell_type": "code",
   "execution_count": 15,
   "metadata": {},
   "outputs": [],
   "source": [
    "date_to_pred, date_to_spc = {}, {}\n",
    "classifier.eval()\n",
    "with torch.no_grad():\n",
    "    for i, spc in enumerate(test_loader):\n",
    "        x = spc[0].float().reshape(-1, 1, height, width).to(device)\n",
    "        embedding = encoder(x)\n",
    "        embedding = embedding.view(embedding.size(0), -1)\n",
    "        preds = classifier(embedding)\n",
    "        date_to_pred[dates[i]] = preds.item() > best_thr\n",
    "        date_to_spc[dates[i]] = spc[0]"
   ]
  },
  {
   "cell_type": "code",
   "execution_count": 16,
   "metadata": {},
   "outputs": [
    {
     "name": "stdout",
     "output_type": "stream",
     "text": [
      "xa.s12.00.mhz.1971-06-11HR00_evid00096.mseed\n"
     ]
    }
   ],
   "source": [
    "num_file = 26\n",
    "data_directory = './data/lunar/test/data/S12_GradeB/'\n",
    "for i, file in enumerate(os.listdir(data_directory)):\n",
    "    if file.endswith('.mseed'):\n",
    "        if i // 2 == num_file:\n",
    "            print(file)\n",
    "            mseed_file = f'{data_directory}{file}'\n",
    "            st = read(mseed_file)\n",
    "            break"
   ]
  },
  {
   "cell_type": "code",
   "execution_count": 17,
   "metadata": {},
   "outputs": [
    {
     "name": "stdout",
     "output_type": "stream",
     "text": [
      "1971-06-11 13:15:00\n",
      "1971-06-11 13:30:00\n",
      "1971-06-11 13:45:00\n",
      "1971-06-11 14:00:00\n"
     ]
    },
    {
     "data": {
      "image/png": "[encoded data removed]",
      "text/plain": [
       "<Figure size 1000x1000 with 3 Axes>"
      ]
     },
     "metadata": {},
     "output_type": "display_data"
    }
   ],
   "source": [
    "st_filt = st.copy()\n",
    "st_filt.filter('bandpass', freqmin=0.5, freqmax=1.0)\n",
    "tr_filt = st_filt.traces[0].copy()\n",
    "tr_times_filt = tr_filt.times()\n",
    "tr = st.traces[0].copy()\n",
    "tr_times = tr.times()\n",
    "\n",
    "starttime = tr.stats.starttime.datetime\n",
    "endtime = starttime + timedelta(seconds=tr_times[-1])\n",
    "time_diff = int((endtime - starttime).total_seconds() / 3600)\n",
    "tr_data_filt = tr_filt.data\n",
    "f, t, sxx = signal.spectrogram(tr_data_filt, tr_filt.stats.sampling_rate)\n",
    "fig = plt.figure(figsize=(10, 10))\n",
    " \n",
    "ax = plt.subplot(2, 1, 1)\n",
    "ax.plot(tr_times_filt, tr_data_filt)\n",
    "ax.set_xlim([min(tr_times_filt), max(tr_times_filt)])\n",
    "ax.set_xticks([min(tr_times_filt) + i * 3600 for i in range(0, time_diff + 1, 3)])\n",
    "ax.set_xticklabels([(starttime + timedelta(hours=i)).strftime('%m-%d %H') for i in range(0, time_diff + 1, 3)])\n",
    "for i in range(4 * time_diff + 1):\n",
    "    time = starttime + timedelta(minutes=15*i)\n",
    "    if date_to_pred.get(time.strftime('%Y-%m-%d %H:%M:%S'), False):\n",
    "        print(time.strftime('%Y-%m-%d %H:%M:%S'))\n",
    "        t_label = (time - starttime).total_seconds()\n",
    "        ax.axvspan(t_label, t_label+3600, color='red', alpha=0.3)\n",
    "\n",
    "ax.set_ylabel('Velocity (m/s)')\n",
    "ax.set_xlabel('Date (Month-Day Hour)')\n",
    "\n",
    "ax2 = plt.subplot(2, 1, 2)\n",
    "vals = ax2.pcolormesh(t, f, sxx, cmap=cm.jet, vmax=5e-17)\n",
    "ax2.set_xlabel(f'Time (Day Hour:Minute)', fontweight='bold')\n",
    "ax2.set_ylabel('Frequency (Hz)', fontweight='bold')\n",
    "cbar = plt.colorbar(vals, orientation='horizontal')\n",
    "cbar.set_label('Power ((m/s)^2/sqrt(Hz))', fontweight='bold')"
   ]
  }
 ],
 "metadata": {
  "kernelspec": {
   "display_name": "Python 3",
   "language": "python",
   "name": "python3"
  },
  "language_info": {
   "codemirror_mode": {
    "name": "ipython",
    "version": 3
   },
   "file_extension": ".py",
   "mimetype": "text/x-python",
   "name": "python",
   "nbconvert_exporter": "python",
   "pygments_lexer": "ipython3",
   "version": "3.11.4"
  }
 },
 "nbformat": 4,
 "nbformat_minor": 2
}
