{
 "cells": [
  {
   "cell_type": "code",
   "execution_count": 15,
   "metadata": {},
   "outputs": [],
   "source": [
    "import torch\n",
    "import torch.nn as nn\n",
    "import matplotlib.pyplot as plt\n",
    "from Dataloader import prepare_data_loader\n",
    "\n",
    "import numpy as np"
   ]
  },
  {
   "cell_type": "code",
   "execution_count": 2,
   "metadata": {},
   "outputs": [],
   "source": [
    "device = torch.device(\"cuda\" if torch.cuda.is_available() else \"cpu\")"
   ]
  },
  {
   "cell_type": "code",
   "execution_count": 3,
   "metadata": {},
   "outputs": [],
   "source": [
    "class Encoder(nn.Module):\n",
    "    def __init__(self, hidden_size):\n",
    "        super(Encoder, self).__init__()\n",
    "        self.conv1 = nn.Conv2d(1, 4, kernel_size=3)\n",
    "        # self.bn1 = nn.BatchNorm2d(4)\n",
    "        self.conv2 = nn.Conv2d(4, 8, kernel_size=3)\n",
    "        # self.bn2 = nn.BatchNorm2d(8)\n",
    "        self.conv3 = nn.Conv2d(8, 16, kernel_size=4)\n",
    "        # self.bn3 = nn.BatchNorm2d(16)\n",
    "        self.fc = nn.Linear(63, hidden_size)\n",
    "\n",
    "    def forward(self, x):\n",
    "        x = torch.relu(self.conv1(x))\n",
    "        x = torch.relu(self.conv2(x))\n",
    "        x = torch.relu(self.conv3(x))\n",
    "        x = self.fc(x)\n",
    "        return x\n",
    "\n",
    "\n",
    "class Decoder(nn.Module):\n",
    "    def __init__(self, hidden_size):\n",
    "        super(Decoder, self).__init__()        \n",
    "        self.fc = nn.Linear(hidden_size, 63)\n",
    "        self.conv1 = nn.ConvTranspose2d(16, 8, kernel_size=4)\n",
    "        self.conv2 = nn.ConvTranspose2d(8, 4, kernel_size=3)\n",
    "        self.conv3 = nn.ConvTranspose2d(4, 1, kernel_size=3)\n",
    "\n",
    "    def forward(self, x):\n",
    "        x = self.fc(x)\n",
    "        # x = torch.relu(self.bn1(self.conv1(x)))\n",
    "        # x = torch.relu(self.bn2(self.conv2(x)))\n",
    "        # x = torch.relu(self.bn3(self.conv3(x)))\n",
    "        x = torch.relu(self.conv1(x))\n",
    "        x = torch.relu(self.conv2(x))\n",
    "        x = torch.sigmoid(self.conv3(x))\n",
    "        return x\n",
    "\n",
    "\n",
    "class ConvAutoencoder(nn.Module):\n",
    "    def __init__(self, hidden_size):\n",
    "        super(ConvAutoencoder, self).__init__()\n",
    "        self.encoder = Encoder(hidden_size)\n",
    "        self.decoder = Decoder(hidden_size)\n",
    "\n",
    "    def forward(self, x):\n",
    "        x = self.encoder(x)\n",
    "        x = self.decoder(x)\n",
    "        return x\n",
    "\n",
    "    def save_encoder(self, path):\n",
    "        torch.save(self.encoder.state_dict(), path)"
   ]
  },
  {
   "cell_type": "code",
   "execution_count": null,
   "metadata": {},
   "outputs": [],
   "source": [
    "training_data_dir = './data/lunar/training/data/S12_GradeA/'\n",
    "training_labels_file = './data/lunar/training/catalogs/apollo12_catalog_GradeA_final.csv'\n",
    "\n",
    "train_loader = prepare_data_loader(overlap=0.25, window_length=1, decimation_factor=3, spect_nfft=128, spect_nperseg=128, batch_size=128, data_dir = training_data_dir, labels_file_path=training_labels_file)"
   ]
  },
  {
   "cell_type": "code",
   "execution_count": 5,
   "metadata": {},
   "outputs": [],
   "source": [
    "height, width = train_loader.dataset.tensors[0].shape[1:]"
   ]
  },
  {
   "cell_type": "code",
   "execution_count": 6,
   "metadata": {},
   "outputs": [],
   "source": [
    "autoencoder = ConvAutoencoder(hidden_size=20).to(device)\n",
    "\n",
    "optimizer = torch.optim.Adam(autoencoder.parameters(), lr=1e-3)\n",
    "criterion = nn.BCELoss()"
   ]
  },
  {
   "cell_type": "code",
   "execution_count": null,
   "metadata": {},
   "outputs": [],
   "source": [
    "num_epochs = 500\n",
    "all_losses = []\n",
    "autoencoder.train()\n",
    "for epoch in range(num_epochs):\n",
    "    for data in train_loader:\n",
    "        img, _ = data\n",
    "        img = img.reshape(-1, 1, height, width).to(device)\n",
    "        output = autoencoder(img)\n",
    "        loss = criterion(output, img)\n",
    "        optimizer.zero_grad()\n",
    "        loss.backward()\n",
    "        optimizer.step()\n",
    "    print(f'epoch [{epoch + 1}/{num_epochs}], loss: {loss.item()}')\n",
    "    all_losses.append(loss.item())\n",
    "\n",
    "# autoencoder.save_encoder('./models/encoder.pth')\n",
    "plt.plot(all_losses)\n",
    "plt.yscale('log')\n",
    "plt.show()"
   ]
  },
  {
   "cell_type": "code",
   "execution_count": null,
   "metadata": {},
   "outputs": [],
   "source": [
    "plt.figure(figsize=(10, 4))\n",
    "autoencoder.eval()\n",
    "with torch.no_grad():\n",
    "    img, _ = next(iter(train_loader))\n",
    "    img = img.reshape(-1, 1, height, width).to(device)\n",
    "    output = autoencoder(img)\n",
    "    for i in range(5):\n",
    "        plt.subplot(2, 5, i + 1)\n",
    "        plt.imshow(img[i].cpu().numpy().squeeze())\n",
    "        # print(img[i].cpu().numpy().squeeze())\n",
    "        plt.axis('off')\n",
    "        plt.subplot(2, 5, i + 6)\n",
    "        # plt.imshow(output[i].cpu().numpy().squeeze())\n",
    "        plt.imshow(np.ones(output[i].cpu().numpy().squeeze().shape)*0.5)\n",
    "        # print('huy')\n",
    "        # print(output[i].cpu().numpy().squeeze())\n",
    "        plt.axis('off')"
   ]
  },
  {
   "cell_type": "code",
   "execution_count": null,
   "metadata": {},
   "outputs": [],
   "source": [
    "plt.imshow(img[0].cpu().numpy().squeeze())"
   ]
  },
  {
   "cell_type": "code",
   "execution_count": null,
   "metadata": {},
   "outputs": [],
   "source": [
    "print(output[0].cpu().numpy().squeeze())\n",
    "plt.imshow(output[0].cpu().numpy().squeeze())"
   ]
  }
 ],
 "metadata": {
  "kernelspec": {
   "display_name": "Python 3",
   "language": "python",
   "name": "python3"
  },
  "language_info": {
   "codemirror_mode": {
    "name": "ipython",
    "version": 3
   },
   "file_extension": ".py",
   "mimetype": "text/x-python",
   "name": "python",
   "nbconvert_exporter": "python",
   "pygments_lexer": "ipython3",
   "version": "3.11.4"
  }
 },
 "nbformat": 4,
 "nbformat_minor": 2
}
