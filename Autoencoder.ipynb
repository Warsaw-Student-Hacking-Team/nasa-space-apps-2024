{
 "cells": [
  {
   "cell_type": "code",
   "execution_count": 1,
   "metadata": {},
   "outputs": [],
   "source": [
    "import torch\n",
    "import torch.nn as nn\n",
    "import torch.optim as optim\n",
    "import torchvision.datasets as datasets\n",
    "import torchvision.transforms as transforms\n",
    "\n",
    "from Dataloader import prepare_data_loader\n",
    "from Models import ConvAutoencoder"
   ]
  },
  {
   "cell_type": "code",
   "execution_count": 2,
   "metadata": {},
   "outputs": [],
   "source": [
    "# training_data_dir = './data/lunar/training/data/S12_GradeA/'\n",
    "# training_labels_file = './data/lunar/training/catalogs/apollo12_catalog_GradeA_final.csv'\n",
    "\n",
    "# train_loader = prepare_data_loader(overlap=0.25, window_length=1, decimation_factor=3, spect_nfft=128, spect_nperseg=128, batch_size=128, data_dir = training_data_dir, labels_file_path=training_labels_file)"
   ]
  },
  {
   "cell_type": "code",
   "execution_count": null,
   "metadata": {},
   "outputs": [],
   "source": [
    "training_data_dir = './data/seismic_autoencoder_data/'\n",
    "training_labels_file = './data/lunar/training/catalogs/apollo12_catalog_GradeA_final.csv'\n",
    "\n",
    "# training_data_dir = './data/apollo/'\n",
    "autoencoder_loader = prepare_data_loader(overlap=0.25, window_length=1, decimation_factor=3, spect_nfft=128, spect_nperseg=128, batch_size=128, data_dir = training_data_dir, labels_file_path=training_labels_file)"
   ]
  },
  {
   "cell_type": "code",
   "execution_count": 4,
   "metadata": {},
   "outputs": [],
   "source": [
    "class Encoder(nn.Module):\n",
    "    def __init__(self, hidden_size):\n",
    "        super(Encoder, self).__init__()\n",
    "        self.conv1 = nn.Conv2d(1, 3, kernel_size=4, stride=1, padding=1)\n",
    "        self.max_pool_1 = nn.MaxPool2d(kernel_size=2, stride=2)\n",
    "        self.conv2 = nn.Conv2d(3, 2, kernel_size=5, stride=1, padding=1)\n",
    "        self.max_pool_2 = nn.MaxPool2d(kernel_size=2, stride=2)\n",
    "        self.fc1 = nn.Linear(480, hidden_size)  \n",
    "        self.relu = nn.ReLU()\n",
    "        self.tanh = nn.Tanh()\n",
    "        # self.sigmoid = nn.Sigmoid()\n",
    "\n",
    "    def forward(self, x):\n",
    "        x = self.relu(self.conv1(x))\n",
    "        x = self.max_pool_1(x)\n",
    "        x = self.relu(self.conv2(x))\n",
    "        x = self.max_pool_2(x)\n",
    "        x = self.fc1(x.reshape(x.shape[0],-1))\n",
    "        # print(x.shape)\n",
    "        x = self.tanh(x)\n",
    "\n",
    "        return x\n",
    "\n",
    "class Decoder(nn.Module):\n",
    "    def __init__(self, hidden_size):\n",
    "        super(Decoder, self).__init__()        \n",
    "        self.conv1 = nn.ConvTranspose2d(2, 3, \n",
    "\t\t\t\t\t\t\tkernel_size=5, \n",
    "\t\t\t\t\t\t\tstride=2, \n",
    "\t\t\t\t\t\t\tpadding=1, \n",
    "\t\t\t\t\t\t\toutput_padding=1)\n",
    "        self.conv2 = nn.ConvTranspose2d(3, 1, \n",
    "\t\t\t\t\t\t\tkernel_size=[4, 5], \n",
    "\t\t\t\t\t\t\tstride=2, \n",
    "\t\t\t\t\t\t\tpadding=1, \n",
    "\t\t\t\t\t\t\toutput_padding=1)\n",
    "        self.relu = nn.ReLU()\n",
    "        self.fc1 = nn.Linear(hidden_size, 480)\n",
    "\n",
    "    def forward(self, x):\n",
    "        x = self.relu(self.fc1(x))\n",
    "\n",
    "        x = x.reshape(-1, 2, 15, 16)\n",
    "        x = self.relu(self.conv1(x))\n",
    "        x = self.relu(self.conv2(x))\n",
    "        return x\n",
    "\n",
    "\n",
    "class ConvAutoencoder(nn.Module):\n",
    "    def __init__(self, hidden_size):\n",
    "        super(ConvAutoencoder, self).__init__()\n",
    "        self.encoder = Encoder(hidden_size)\n",
    "        self.decoder = Decoder(hidden_size)\n",
    "\n",
    "    def forward(self, x):\n",
    "        x = self.encoder(x)\n",
    "        x = self.decoder(x)\n",
    "        return x\n",
    "\n",
    "    def save_encoder(self, path):\n",
    "        torch.save(self.encoder.state_dict(), path)"
   ]
  },
  {
   "cell_type": "code",
   "execution_count": 5,
   "metadata": {},
   "outputs": [],
   "source": [
    "# model = Autoencoder()\n",
    "model = ConvAutoencoder(hidden_size=100)\n",
    "\n",
    "#load model\n",
    "# model.load_state_dict(torch.load('./models/witek_autoencoder.pth'))"
   ]
  },
  {
   "cell_type": "code",
   "execution_count": 6,
   "metadata": {},
   "outputs": [],
   "source": [
    "height, width = autoencoder_loader.dataset.tensors[0].shape[1:]"
   ]
  },
  {
   "cell_type": "code",
   "execution_count": null,
   "metadata": {},
   "outputs": [],
   "source": [
    "device = torch.device('cuda' if torch.cuda.is_available() else 'cpu')\n",
    "print(device)\n",
    "model.to(device)"
   ]
  },
  {
   "cell_type": "code",
   "execution_count": 8,
   "metadata": {},
   "outputs": [],
   "source": [
    "# # Define the loss function and optimizer\n",
    "# criterion = nn.L1Loss()\n",
    "# # criterion = nn.KLDivLoss(reduction='batchmean')\n",
    "# # criterion = nn.KLDivLoss()\n",
    "# optimizer = optim.Adam(model.parameters(), lr=0.00005)\n",
    "\n",
    "# # Train the autoencoder\n",
    "# num_epochs = 100\n",
    "# for epoch in range(num_epochs):\n",
    "# \tepoch_loss = 0\n",
    "# \tepoch_recon_loss = 0\n",
    "# \tepoch_stretch_loss = 0\n",
    "# \tfor data in train_loader:\n",
    "# \t\timg, _ = data\n",
    "# \t\timg = img.reshape(-1,1,height, width).to(device)\n",
    "# \t\toptimizer.zero_grad()\n",
    "# \t\toutput = model(img)\n",
    "# \t\tembd_space = model.encoder(img)\n",
    "# \t\trecon_loss = criterion(output, img)\n",
    "# \t\t# stretch_loss = torch.abs(torch.mean(1-(embd_space[:,0]*embd_space[:,0] + embd_space[:,1]*embd_space[:,1])))\n",
    "# \t\t# loss = recon_loss+0.0*stretch_loss\n",
    "# \t\t# loss.backward()\n",
    "# \t\trecon_loss.backward()\n",
    "# \t\t# epoch_loss += loss.item()\n",
    "# \t\tepoch_recon_loss += recon_loss.item()\n",
    "# \t\t# epoch_stretch_loss += stretch_loss.item()\n",
    "# \t\toptimizer.step()\n",
    "# \tif epoch % 5== 0:\n",
    "# \t\t# print(f'Epoch [{epoch+1}/{num_epochs}], Loss: {epoch_recon_loss:.4f}')\n",
    "# \t\tprint(f'Epoch [{epoch+1}/{num_epochs}], Recon Loss: {epoch_recon_loss:.4f}, Stretch Loss: {epoch_stretch_loss:.4f}')\n"
   ]
  },
  {
   "cell_type": "code",
   "execution_count": null,
   "metadata": {},
   "outputs": [],
   "source": [
    "import torch\n",
    "import torch.nn as nn\n",
    "import torch.optim as optim\n",
    "import torch.nn.functional as F\n",
    "\n",
    "# Define the loss functions and optimizer\n",
    "criterion_recon = nn.L1Loss()\n",
    "optimizer = optim.Adam(model.parameters(), lr=0.0001)\n",
    "\n",
    "# Train the autoencoder\n",
    "num_epochs = 200\n",
    "for epoch in range(num_epochs):\n",
    "    epoch_recon_loss = 0\n",
    "\n",
    "    for x_data in autoencoder_loader:\n",
    "        x_data = x_data[0].reshape(-1, 1, height, width).to(device)\n",
    "        \n",
    "        optimizer.zero_grad()\n",
    "        \n",
    "        # Forward pass through the model\n",
    "        recon = model(x_data)\n",
    "        embd_space = model.encoder(x_data)\n",
    "        \n",
    "        recon_loss = criterion_recon(recon, x_data)\n",
    "        \n",
    "        recon_loss.backward()\n",
    "        optimizer.step()\n",
    "        \n",
    "        epoch_recon_loss += recon_loss.item()\n",
    "\n",
    "    if epoch % 5 == 0:\n",
    "        print(f'Epoch [{epoch+1}/{num_epochs}], Recon Loss: {epoch_recon_loss:.4f}')"
   ]
  },
  {
   "cell_type": "code",
   "execution_count": null,
   "metadata": {},
   "outputs": [],
   "source": [
    "with torch.no_grad():\n",
    "\tfor data in autoencoder_loader:\n",
    "\t\tdata = data[0].reshape(-1,1,height, width).to(device)\n",
    "\t\trecon = model(data)\n",
    "\t\tbreak\n",
    "\t\t\n",
    "import matplotlib.pyplot as plt\n",
    "plt.figure(dpi=250)\n",
    "fig, ax = plt.subplots(2, 7, figsize=(15, 4))\n",
    "for i in range(7):\n",
    "\tax[0, i].imshow(data[i].cpu().numpy().transpose((1, 2, 0)))\n",
    "\tax[1, i].imshow(recon[i].cpu().numpy().transpose((1, 2, 0)))\n",
    "\tax[0, i].axis('OFF')\n",
    "\tax[1, i].axis('OFF')\n",
    "plt.show()"
   ]
  },
  {
   "cell_type": "code",
   "execution_count": null,
   "metadata": {},
   "outputs": [],
   "source": [
    "plt.figure(figsize=(10, 4))\n",
    "model.eval()\n",
    "with torch.no_grad():\n",
    "    img = next(iter(autoencoder_loader))\n",
    "    print(img[1][0])\n",
    "    img = img[0].reshape(-1, 1, height, width).to(device)\n",
    "    output = model(img)\n",
    "    fig, ax = plt.subplots(1, 2, figsize=(20, 10))\n",
    "    ax[0].imshow(img[0].cpu().numpy().squeeze())\n",
    "    ax[1].imshow(output[0].cpu().numpy().squeeze())"
   ]
  },
  {
   "cell_type": "code",
   "execution_count": 29,
   "metadata": {},
   "outputs": [],
   "source": [
    "# autoencoder.save_encoder('./models/encoder.pth')\n",
    "# torch.save(model.state_dict(), \"./models/witek_autoencoder_2.pth\")"
   ]
  }
 ],
 "metadata": {
  "kernelspec": {
   "display_name": "Python 3",
   "language": "python",
   "name": "python3"
  },
  "language_info": {
   "codemirror_mode": {
    "name": "ipython",
    "version": 3
   },
   "file_extension": ".py",
   "mimetype": "text/x-python",
   "name": "python",
   "nbconvert_exporter": "python",
   "pygments_lexer": "ipython3",
   "version": "3.11.4"
  }
 },
 "nbformat": 4,
 "nbformat_minor": 2
}
