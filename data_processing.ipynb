{
 "cells": [
  {
   "cell_type": "markdown",
   "id": "b70993fd",
   "metadata": {},
   "source": [
    "# Example Jupyter notebook to work with the data"
   ]
  },
  {
   "cell_type": "markdown",
   "id": "13c05b6a",
   "metadata": {},
   "source": [
    "# Read in and plot the Apollo 12 Grade A catalog"
   ]
  },
  {
   "cell_type": "code",
   "execution_count": 1,
   "id": "5aed08ff-db7b-48f2-807a-b734b5656ebd",
   "metadata": {},
   "outputs": [],
   "source": [
    "# Import libraries\n",
    "import numpy as np\n",
    "import pandas as pd\n",
    "from obspy import read\n",
    "from datetime import datetime, timedelta\n",
    "import matplotlib.pyplot as plt\n",
    "import os\n",
    "\n",
    "from scipy import signal\n",
    "from matplotlib import cm\n",
    "import torch.utils.data as utils\n",
    "import torch\n",
    "import torch.nn as nn"
   ]
  },
  {
   "cell_type": "code",
   "execution_count": 2,
   "id": "25aa6d30",
   "metadata": {},
   "outputs": [],
   "source": [
    "training_data_dir = './data/lunar/training/data/S12_GradeA/'\n",
    "event_list_file = './data/lunar/training/catalogs/apollo12_catalog_GradeA_final.csv'"
   ]
  },
  {
   "cell_type": "code",
   "execution_count": 3,
   "id": "c9dc264c",
   "metadata": {},
   "outputs": [],
   "source": [
    "list_of_events = pd.read_csv(event_list_file)"
   ]
  },
  {
   "cell_type": "code",
   "execution_count": 4,
   "id": "780c20b9",
   "metadata": {},
   "outputs": [],
   "source": [
    "def spectrogram_plot(tr_times_filt, tr_data_filt, t, f, sxx, cm):\n",
    "    fig = plt.figure(figsize=(6, 6))\n",
    "    ax2 = plt.subplot(1, 1, 1)\n",
    "    vals = ax2.pcolormesh(t, f, sxx, cmap=cm.jet, vmax=5e-17)\n",
    "    # ax2.set_xlim([min(tr_times_filt),max(tr_times_filt)])\n",
    "    ax2.set_xlabel(f'Time (Day Hour:Minute)', fontweight='bold')\n",
    "    ax2.set_ylabel('Frequency (Hz)', fontweight='bold')\n",
    "    cbar = plt.colorbar(vals, orientation='horizontal')\n",
    "    cbar.set_label('Power ((m/s)^2/sqrt(Hz))', fontweight='bold')"
   ]
  },
  {
   "cell_type": "code",
   "execution_count": 5,
   "id": "4ca28511",
   "metadata": {},
   "outputs": [],
   "source": [
    "def prepare_event_data_dict(list_of_events):\n",
    "    list_of_event_ids = []\n",
    "    event_data_dict = {}\n",
    "    for event_idx in range(len(list_of_events)):\n",
    "        event_data = list_of_events.iloc[event_idx]\n",
    "        event_filename = event_data['filename']\n",
    "        event_time_abs = event_data['time_abs(%Y-%m-%dT%H:%M:%S.%f)']\n",
    "        event_time_rel = event_data['time_rel(sec)']\n",
    "        event_id = event_data['evid']\n",
    "        event_type = event_data['mq_type']\n",
    "        list_of_event_ids.append(event_id)\n",
    "        event_data_dict[event_id] = {'filename': event_filename, 'time_abs': event_time_abs, 'time_rel': event_time_rel, 'type': event_type}\n",
    "    return list_of_event_ids, event_data_dict\n",
    "\n",
    "# def average_in_second_axis(data, factor):\n",
    "#     if data.shape[1] % factor == 0:\n",
    "#         return np.mean(data.reshape(data.shape[0], -1, factor), axis=2)\n",
    "#     else:\n",
    "#         num_full_groups = data.shape[1] // factor\n",
    "#         full_groups = np.mean(data[:, :num_full_groups * factor].reshape(data.shape[0], -1, factor), axis=2)\n",
    "#         remainder_group = np.mean(data[:, num_full_groups * factor:], axis=1, keepdims=True)\n",
    "#         return np.concatenate((full_groups, remainder_group), axis=1)\n",
    "\n",
    "# def apply_filter(st, minfreq, maxfreq):\n",
    "#     st_filt = st.copy()\n",
    "#     st_filt.filter('bandpass',freqmin=minfreq,freqmax=maxfreq)\n",
    "#     tr_filt = st_filt.traces[0].copy()\n",
    "#     tr_data_filt = tr_filt.data\n",
    "\n",
    "#     f, t, sxx = signal.spectrogram(tr_data_filt, tr_filt.stats.sampling_rate)\n",
    "#     return f, t, sxx\n",
    "\n",
    "def check_if_any_event_in_range(start_time, end_time):\n",
    "    for e in list_of_event_times_datetimes:\n",
    "        if e >= start_time and e <= end_time:\n",
    "            return True\n",
    "    return False"
   ]
  },
  {
   "cell_type": "code",
   "execution_count": null,
   "id": "12762126",
   "metadata": {},
   "outputs": [],
   "source": [
    "list_of_event_ids, event_data_dict = prepare_event_data_dict(list_of_events)\n",
    "list_of_event_times_datetimes = [datetime.strptime(event_data_dict[event_id]['time_abs'], '%Y-%m-%dT%H:%M:%S.%f') for event_id in list_of_event_ids]\n",
    "print(list_of_event_times_datetimes)"
   ]
  },
  {
   "cell_type": "code",
   "execution_count": 30,
   "id": "c8c024f9",
   "metadata": {},
   "outputs": [],
   "source": [
    "def prepare_data_loader(overlap, window_length, decimation_factor, spect_nfft, spect_nperseg, batch_size):\n",
    "\n",
    "    all_spectrograms = []\n",
    "    all_labels = []\n",
    "\n",
    "    list_of_files = os.listdir(training_data_dir)\n",
    "    list_of_files = [file for file in list_of_files if file.endswith('.mseed')]\n",
    "    tr_data = None\n",
    "    for file_idx in range(len(list_of_files)):\n",
    "        current_event_date = list_of_files[file_idx].split('.')[4][:10]\n",
    "        current_event_date = datetime.strptime(current_event_date, \"%Y-%m-%d\")\n",
    "        if file_idx == len(list_of_files) - 1:\n",
    "            days_difference = -1\n",
    "        else:\n",
    "            # print(current_event_date, end=' ')\n",
    "            next_event_date = list_of_files[file_idx+1].split('.')[4][:10]\n",
    "            next_event_date = datetime.strptime(next_event_date, \"%Y-%m-%d\")\n",
    "\n",
    "            delta = next_event_date - current_event_date\n",
    "            days_difference = delta.days\n",
    "\n",
    "        mseed_file_path = f'{training_data_dir}{list_of_files[file_idx]}'\n",
    "        st = read(mseed_file_path)\n",
    "\n",
    "\n",
    "        tr = st.traces[0].copy()\n",
    "\n",
    "        if tr_data is None:\n",
    "            start_time = st[0].stats.starttime.datetime\n",
    "            sampling_rate = st[0].stats.sampling_rate\n",
    "            tr_data = tr.data\n",
    "        else:\n",
    "            tr_data = np.concatenate((tr_data, tr.data))\n",
    "        # print(tr_data.shape)\n",
    "\n",
    "\n",
    "        if days_difference == 1:\n",
    "            continue\n",
    "        else:\n",
    "            iterator = 0\n",
    "            samples_per_window = window_length*3600*sampling_rate\n",
    "            list_of_spectrograms = []\n",
    "            list_of_event_labels = []\n",
    "            end_of_file = False\n",
    "            while not end_of_file:\n",
    "                #start_time + window_length hours\n",
    "\n",
    "                tmp_data = tr_data[iterator:iterator+int(samples_per_window)]\n",
    "                if len(tmp_data) < int(samples_per_window):\n",
    "                    tmp_data = tr_data[-int(samples_per_window):]\n",
    "                    end_of_file = True\n",
    "\n",
    "                tmp_data_undersample = signal.decimate(tmp_data, decimation_factor, axis=0, zero_phase=True)\n",
    "                _, _, sxx = signal.spectrogram(tmp_data_undersample, sampling_rate/decimation_factor, nfft=spect_nfft, nperseg=spect_nperseg)\n",
    "\n",
    "                list_of_event_labels.append(check_if_any_event_in_range(start_time, start_time + timedelta(hours=window_length)))\n",
    "                if (check_if_any_event_in_range(start_time, start_time + timedelta(hours=window_length))):\n",
    "                    t, f, sxx = signal.spectrogram(tmp_data_undersample, sampling_rate/decimation_factor, nfft=spect_nfft, nperseg=spect_nperseg)\n",
    "                    print(start_time, start_time + timedelta(hours=window_length))\n",
    "                    \n",
    "                list_of_spectrograms.append(sxx)\n",
    "\n",
    "                iterator += int(overlap*3600*sampling_rate)\n",
    "                start_time = start_time + timedelta(hours=overlap)\n",
    "\n",
    "            tr_data = None\n",
    "            spectrograms_np_arr = np.array(list_of_spectrograms)\n",
    "            labels_np_arr = np.array(list_of_event_labels)\n",
    "            # print(spectrograms_np_arr.shape)\n",
    "\n",
    "            all_spectrograms.append(spectrograms_np_arr)\n",
    "            all_labels.append(labels_np_arr)\n",
    "    all_spectrograms = np.concatenate(all_spectrograms, axis=0)\n",
    "    all_labels = np.concatenate(all_labels, axis=0)\n",
    "    print(all_spectrograms.shape)\n",
    "    print(all_labels.shape)\n",
    "    print(np.sum(all_labels))\n",
    "    train_dataset = utils.TensorDataset(torch.from_numpy(all_spectrograms).float(),torch.from_numpy(all_labels).bool())\n",
    "    train_loader = utils.DataLoader(train_dataset, batch_size=batch_size, drop_last=False, shuffle=False)\n",
    "    return train_loader"
   ]
  },
  {
   "cell_type": "code",
   "execution_count": null,
   "id": "f9209d44",
   "metadata": {},
   "outputs": [],
   "source": [
    "data_loader = prepare_data_loader(overlap=0.25, window_length=1, decimation_factor=3, spect_nfft=128, spect_nperseg=128, batch_size=1)"
   ]
  },
  {
   "cell_type": "code",
   "execution_count": null,
   "id": "3683b5ca",
   "metadata": {},
   "outputs": [],
   "source": [
    "for batch_idx, (data, target) in enumerate(data_loader):\n",
    "    if target == True:\n",
    "        print(data.shape)\n",
    "        print(target)\n",
    "        break"
   ]
  }
 ],
 "metadata": {
  "kernelspec": {
   "display_name": "Python 3",
   "language": "python",
   "name": "python3"
  },
  "language_info": {
   "codemirror_mode": {
    "name": "ipython",
    "version": 3
   },
   "file_extension": ".py",
   "mimetype": "text/x-python",
   "name": "python",
   "nbconvert_exporter": "python",
   "pygments_lexer": "ipython3",
   "version": "3.11.4"
  }
 },
 "nbformat": 4,
 "nbformat_minor": 5
}
