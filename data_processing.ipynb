{
 "cells": [
  {
   "cell_type": "markdown",
   "id": "b70993fd",
   "metadata": {},
   "source": [
    "# Example Jupyter notebook to work with the data"
   ]
  },
  {
   "cell_type": "markdown",
   "id": "13c05b6a",
   "metadata": {},
   "source": [
    "# Read in and plot the Apollo 12 Grade A catalog"
   ]
  },
  {
   "cell_type": "code",
   "execution_count": 1,
   "id": "5aed08ff-db7b-48f2-807a-b734b5656ebd",
   "metadata": {},
   "outputs": [],
   "source": [
    "# Import libraries\n",
    "import numpy as np\n",
    "import pandas as pd\n",
    "from obspy import read\n",
    "from datetime import datetime, timedelta\n",
    "import matplotlib.pyplot as plt\n",
    "import os\n",
    "\n",
    "from scipy import signal\n",
    "from matplotlib import cm\n",
    "import torch.utils.data as utils\n",
    "import torch\n",
    "import torch.nn as nn\n",
    "\n",
    "from Dataloader import *"
   ]
  },
  {
   "cell_type": "code",
   "execution_count": 2,
   "id": "f9209d44",
   "metadata": {},
   "outputs": [
    {
     "name": "stdout",
     "output_type": "stream",
     "text": [
      "Starting number of files:76\n",
      "Number of uniques files:71\n",
      "(6633, 65, 70)\n",
      "(6633,)\n",
      "Number of windows with seismic event 299\n"
     ]
    }
   ],
   "source": [
    "training_data_dir = './data/lunar/training/data/S12_GradeA/'\n",
    "training_labels_file = './data/lunar/training/catalogs/apollo12_catalog_GradeA_final.csv'\n",
    "\n",
    "data_loader = prepare_data_loader(overlap=0.25, window_length=1, decimation_factor=3, spect_nfft=128, spect_nperseg=128, batch_size=32, data_dir = training_data_dir, labels_file_path=training_labels_file)"
   ]
  },
  {
   "cell_type": "code",
   "execution_count": 4,
   "id": "1eaf4cb7",
   "metadata": {},
   "outputs": [
    {
     "name": "stdout",
     "output_type": "stream",
     "text": [
      "Starting number of files:64\n",
      "Number of uniques files:62\n",
      "(5736, 65, 70)\n"
     ]
    }
   ],
   "source": [
    "test_data_dir = './data/lunar/test/data/S12_GradeB/'\n",
    "\n",
    "test_loader = prepare_data_loader(overlap=0.25, window_length=1, decimation_factor=3, spect_nfft=128, spect_nperseg=128, batch_size=32, data_dir = test_data_dir, labels_file_path=None)"
   ]
  }
 ],
 "metadata": {
  "kernelspec": {
   "display_name": "Python 3",
   "language": "python",
   "name": "python3"
  },
  "language_info": {
   "codemirror_mode": {
    "name": "ipython",
    "version": 3
   },
   "file_extension": ".py",
   "mimetype": "text/x-python",
   "name": "python",
   "nbconvert_exporter": "python",
   "pygments_lexer": "ipython3",
   "version": "3.11.4"
  }
 },
 "nbformat": 4,
 "nbformat_minor": 5
}
