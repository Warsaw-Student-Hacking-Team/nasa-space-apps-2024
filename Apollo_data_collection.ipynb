{
 "cells": [
  {
   "cell_type": "code",
   "execution_count": 1,
   "metadata": {},
   "outputs": [],
   "source": [
    "%matplotlib inline\n",
    "\n",
    "import matplotlib\n",
    "import matplotlib.pyplot as plt\n",
    "\n",
    "from datetime import datetime\n",
    "\n",
    "from future.builtins import *  # NOQA\n",
    "from datetime import timedelta\n",
    "from obspy.core import read\n",
    "from obspy.core.utcdatetime import UTCDateTime\n",
    "from obspy.core.inventory import read_inventory\n",
    "import numpy as np\n",
    "from obspy.clients.fdsn.client import Client"
   ]
  },
  {
   "cell_type": "code",
   "execution_count": null,
   "metadata": {},
   "outputs": [],
   "source": [
    "def save_raw_seismogram(starttime, endtime, station):\n",
    "    \"\"\"\n",
    "    View a raw seismogram.\n",
    "    \"\"\"\n",
    "    print(starttime.strftime(\"%Y-%m-%dT%H:%M:%S\") + \".0\")\n",
    "\n",
    "    starttime = UTCDateTime(starttime.strftime(\"%Y-%m-%dT%H:%M:%S\") + \".0\")\n",
    "    endtime = UTCDateTime(endtime.strftime(\"%Y-%m-%dT%H:%M:%S\") + \".0\")\n",
    "\n",
    "    # Formatting the filename\n",
    "    network = \"XA\"  # Network code\n",
    "    location = \"00\"  # Location identifier\n",
    "    channel = \"MHZ\"  # Channel identifier\n",
    "\n",
    "    date_part = starttime.strftime(\"%Y-%m-%d\")\n",
    "    hour_part = starttime.strftime(\"HR%H\")\n",
    "\n",
    "    filename = f\"{network}.{station}.{location}.{channel}.{date_part}{hour_part}_evNONE\"\n",
    "\n",
    "    client = Client(\"IRIS\")\n",
    "    print(client)\n",
    "\n",
    "    try:\n",
    "        stream = client.get_waveforms(\n",
    "            network=network,\n",
    "            station=station,\n",
    "            channel=channel,\n",
    "            location=location,\n",
    "            starttime=starttime,\n",
    "            endtime=endtime,\n",
    "        )\n",
    "    except:\n",
    "        print(\"No data found for the given parameters\")\n",
    "        return\n",
    "    file_path = f\"./data/apollo//{filename}.mseed\"\n",
    "\n",
    "    stream.write(file_path, format=\"MSEED\")\n",
    "    return stream"
   ]
  },
  {
   "cell_type": "code",
   "execution_count": null,
   "metadata": {},
   "outputs": [],
   "source": [
    "startion_list = [\"S12\", \"S11\", \"S14\", \"S15\"]\n",
    "\n",
    "start_time = datetime(1973, 1, 1, 23, 59, 0)\n",
    "start_time_copy = start_time\n",
    "delta = timedelta(days=11)\n",
    "\n",
    "\n",
    "for i in range(10):\n",
    "    print(i)\n",
    "    start_time_copy = start_time + delta\n",
    "    save_raw_seismogram(start_time, start_time_copy, \"S15\")\n",
    "    start_time = start_time_copy"
   ]
  }
 ],
 "metadata": {
  "kernelspec": {
   "display_name": "Python 3",
   "language": "python",
   "name": "python3"
  },
  "language_info": {
   "codemirror_mode": {
    "name": "ipython",
    "version": 3
   },
   "file_extension": ".py",
   "mimetype": "text/x-python",
   "name": "python",
   "nbconvert_exporter": "python",
   "pygments_lexer": "ipython3",
   "version": "3.11.4"
  }
 },
 "nbformat": 4,
 "nbformat_minor": 2
}
